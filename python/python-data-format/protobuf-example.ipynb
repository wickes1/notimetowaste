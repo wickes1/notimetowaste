{
 "cells": [
  {
   "cell_type": "markdown",
   "metadata": {},
   "source": [
    "`data.json`\n",
    "```json\n",
    "[\n",
    "  {\n",
    "    \"id\": 1,\n",
    "    \"name\": \"John\",\n",
    "    \"value\": \"Value1\"\n",
    "  },\n",
    "  {\n",
    "    \"id\": 2,\n",
    "    \"name\": \"Alice\",\n",
    "    \"value\": \"Value2\"\n",
    "  },\n",
    "  {\n",
    "    \"id\": 3,\n",
    "    \"name\": \"Bob\",\n",
    "    \"value\": \"Value3\"\n",
    "  }\n",
    "]\n",
    "```\n",
    "\n",
    "`data.proto`\n",
    "```protobuf\n",
    "syntax = \"proto3\";\n",
    "\n",
    "message Data {\n",
    "    int32 id = 1;\n",
    "    string name = 2;\n",
    "    string value = 3;\n",
    "}\n",
    "```\n",
    "\n",
    "```bash\n",
    "# Generate Python code\n",
    "protoc --python_out=. data.proto\n",
    "```"
   ]
  },
  {
   "cell_type": "code",
   "execution_count": 3,
   "metadata": {},
   "outputs": [
    {
     "name": "stdout",
     "output_type": "stream",
     "text": [
      "[{'id': 3, 'name': 'Bob', 'value': 'Value3'}]\n"
     ]
    }
   ],
   "source": [
    "\"\"\"\n",
    "Read and write Protobuf messages to and from a file\n",
    "\"\"\"\n",
    "\n",
    "import json\n",
    "import data_pb2  # Import the generated protobuf module\n",
    "\n",
    "\n",
    "def json_to_protobuf(json_data):\n",
    "    messages = []\n",
    "    for entry in json_data:\n",
    "        message = data_pb2.Data()\n",
    "        message.id = entry[\"id\"]\n",
    "        message.name = entry[\"name\"]\n",
    "        message.value = entry[\"value\"]\n",
    "        messages.append(message)\n",
    "    return messages\n",
    "\n",
    "\n",
    "# Function to convert Protobuf messages to JSON\n",
    "def protobuf_to_json(messages):\n",
    "    json_data = []\n",
    "    for message in messages:\n",
    "        entry = {\"id\": message.id, \"name\": message.name, \"value\": message.value}\n",
    "        json_data.append(entry)\n",
    "    return json_data\n",
    "\n",
    "\n",
    "# Read JSON data\n",
    "with open(\"data.json\", \"r\") as f:\n",
    "    json_data = json.load(f)\n",
    "\n",
    "# Convert JSON to Protobuf messages\n",
    "protobuf_messages = json_to_protobuf(json_data)\n",
    "\n",
    "# Write Protobuf messages to file\n",
    "with open(\"data.protobuf\", \"wb\") as f:\n",
    "    for message in protobuf_messages:\n",
    "        f.write(message.SerializeToString())\n",
    "\n",
    "# Read Protobuf data from file\n",
    "protobuf_messages_read = []\n",
    "with open(\"data.protobuf\", \"rb\") as f:\n",
    "    while True:\n",
    "        message = data_pb2.Data()\n",
    "        buf = f.read()\n",
    "        if len(buf) == 0:\n",
    "            break\n",
    "        message.ParseFromString(buf)\n",
    "        protobuf_messages_read.append(message)\n",
    "\n",
    "# Convert Protobuf messages back to JSON\n",
    "json_data_read = protobuf_to_json(protobuf_messages_read)\n",
    "\n",
    "# Print the read JSON data\n",
    "print(json_data_read)"
   ]
  }
 ],
 "metadata": {
  "kernelspec": {
   "display_name": "python-data-format-ZNDE77_U-py3.11",
   "language": "python",
   "name": "python3"
  },
  "language_info": {
   "codemirror_mode": {
    "name": "ipython",
    "version": 3
   },
   "file_extension": ".py",
   "mimetype": "text/x-python",
   "name": "python",
   "nbconvert_exporter": "python",
   "pygments_lexer": "ipython3",
   "version": "3.11.7"
  }
 },
 "nbformat": 4,
 "nbformat_minor": 2
}
