{
 "cells": [
  {
   "cell_type": "code",
   "execution_count": 6,
   "metadata": {},
   "outputs": [
    {
     "name": "stdout",
     "output_type": "stream",
     "text": [
      "{'station': '011990-99999', 'time': 1433269388, 'temp': 0}\n",
      "{'station': '011990-99999', 'time': 1433270389, 'temp': 22}\n",
      "{'station': '011990-99999', 'time': 1433273379, 'temp': -11}\n",
      "{'station': '012650-99999', 'time': 1433275478, 'temp': 111}\n"
     ]
    }
   ],
   "source": [
    "\"\"\"\n",
    "Basic read and write\n",
    "\"\"\"\n",
    "\n",
    "from fastavro import writer, reader, parse_schema\n",
    "\n",
    "schema = {\n",
    "    \"doc\": \"A weather reading.\",\n",
    "    \"name\": \"Weather\",\n",
    "    \"namespace\": \"test\",\n",
    "    \"type\": \"record\",\n",
    "    \"fields\": [\n",
    "        {\"name\": \"station\", \"type\": \"string\"},\n",
    "        {\"name\": \"time\", \"type\": \"long\"},\n",
    "        {\"name\": \"temp\", \"type\": \"int\"},\n",
    "    ],\n",
    "}\n",
    "parsed_schema = parse_schema(schema)\n",
    "\n",
    "# 'records' can be an iterable (including generator)\n",
    "records = [\n",
    "    {\"station\": \"011990-99999\", \"temp\": 0, \"time\": 1433269388},\n",
    "    {\"station\": \"011990-99999\", \"temp\": 22, \"time\": 1433270389},\n",
    "    {\"station\": \"011990-99999\", \"temp\": -11, \"time\": 1433273379},\n",
    "    {\"station\": \"012650-99999\", \"temp\": 111, \"time\": 1433275478},\n",
    "]\n",
    "\n",
    "# Writing\n",
    "with open(\"weather.avro\", \"wb\") as out:\n",
    "    writer(out, parsed_schema, records)\n",
    "\n",
    "# Reading\n",
    "with open(\"weather.avro\", \"rb\") as fo:\n",
    "    for record in reader(fo):\n",
    "        print(record)"
   ]
  },
  {
   "cell_type": "code",
   "execution_count": 31,
   "metadata": {},
   "outputs": [
    {
     "name": "stdout",
     "output_type": "stream",
     "text": [
      "{'eid': 1, 'reader_new_name': 'John'}\n",
      "{'eid': 2, 'reader_new_name': 'Alice'}\n",
      "{'eid': 3, 'reader_new_name': 'Bob'}\n"
     ]
    }
   ],
   "source": [
    "\"\"\"\n",
    "Reader and writer schema\n",
    "\"\"\"\n",
    "\n",
    "from io import BytesIO\n",
    "import fastavro\n",
    "\n",
    "ws = {\n",
    "    \"name\": \"ReaderWriterSchema\",\n",
    "    \"type\": \"record\",\n",
    "    \"namespace\": \"com\",\n",
    "    \"fields\": [\n",
    "        {\"name\": \"id\", \"type\": \"int\"},\n",
    "        {\"name\": \"name\", \"type\": \"string\"},\n",
    "        {\"name\": \"value\", \"type\": \"string\"},\n",
    "    ],\n",
    "}\n",
    "\n",
    "rs = {\n",
    "    \"name\": \"ReaderWriterSchema\",\n",
    "    \"type\": \"record\",\n",
    "    \"namespace\": \"com\",\n",
    "    \"fields\": [\n",
    "        {\"name\": \"eid\", \"aliases\": [\"id\"], \"type\": \"int\"},\n",
    "        {\"name\": \"reader_new_name\", \"aliases\": [\"name\"], \"type\": \"string\"},\n",
    "    ],\n",
    "}\n",
    "\n",
    "data = [\n",
    "    {\"id\": 1, \"name\": \"John\", \"value\": \"Value1\"},\n",
    "    {\"id\": 2, \"name\": \"Alice\", \"value\": \"Value2\"},\n",
    "    {\"id\": 3, \"name\": \"Bob\", \"value\": \"Value3\"},\n",
    "]\n",
    "\n",
    "\n",
    "# Write the data to the buffer using the writer schema and then read it back using the reader schema\n",
    "bdata = BytesIO()\n",
    "\n",
    "for record in data:\n",
    "    bdata.seek(0)\n",
    "    try:\n",
    "        fastavro.schemaless_writer(bdata, ws, record=record, strict=True)\n",
    "    except Exception as e:\n",
    "        print(e)\n",
    "    else:\n",
    "        decoded_json = fastavro.schemaless_reader(\n",
    "            BytesIO(bdata.getvalue()), reader_schema=rs, writer_schema=ws\n",
    "        )\n",
    "        print(decoded_json)"
   ]
  },
  {
   "cell_type": "code",
   "execution_count": 5,
   "metadata": {},
   "outputs": [
    {
     "name": "stdout",
     "output_type": "stream",
     "text": [
      "{'self_defined_type': '1.23 m'}\n"
     ]
    }
   ],
   "source": [
    "\"\"\"\n",
    "Custom logical type\n",
    "\"\"\"\n",
    "\n",
    "from io import BytesIO\n",
    "\n",
    "import fastavro\n",
    "\n",
    "\n",
    "def encode_ctv_cm_m(data: str, *args):\n",
    "    return data\n",
    "\n",
    "\n",
    "# convert cm to m\n",
    "def decode_ctv_cm_m(data: str, *args):\n",
    "    return str(float(data) / 100) + \" m\"\n",
    "\n",
    "\n",
    "fastavro.write.LOGICAL_WRITERS[\"string-cvt_cm_m\"] = encode_ctv_cm_m\n",
    "fastavro.read.LOGICAL_READERS[\"string-cvt_cm_m\"] = decode_ctv_cm_m\n",
    "\n",
    "schema = {\n",
    "    \"type\": \"record\",\n",
    "    \"name\": \"root\",\n",
    "    \"fields\": [\n",
    "        {\n",
    "            \"name\": \"self_defined_type\",\n",
    "            \"type\": [\"null\", {\"type\": \"string\", \"logicalType\": \"cvt_cm_m\"}],\n",
    "            \"description\": \"when reading, convert cm to m\",\n",
    "        },\n",
    "    ],\n",
    "}\n",
    "\n",
    "valid_data = {\"self_defined_type\": \"123\"}\n",
    "\n",
    "bdata = BytesIO()\n",
    "bdata.seek(0)\n",
    "fastavro.schemaless_writer(bdata, schema, valid_data, strict_allow_default=True)\n",
    "decoded_json = fastavro.schemaless_reader(\n",
    "    BytesIO(bdata.getvalue()), reader_schema=schema, writer_schema=schema\n",
    ")\n",
    "print(decoded_json)"
   ]
  },
  {
   "cell_type": "code",
   "execution_count": 10,
   "metadata": {},
   "outputs": [
    {
     "name": "stdout",
     "output_type": "stream",
     "text": [
      "Data is valid, decoded as:  {'name': 'John', 'age': 30}\n",
      "Data is invalid:  an integer is required on field age\n"
     ]
    }
   ],
   "source": [
    "\"\"\"\n",
    "Validation\n",
    "\"\"\"\n",
    "\n",
    "from io import BytesIO\n",
    "import fastavro\n",
    "\n",
    "schema = {\n",
    "    \"type\": \"record\",\n",
    "    \"name\": \"root\",\n",
    "    \"fields\": [\n",
    "        {\"name\": \"name\", \"type\": \"string\"},\n",
    "        {\"name\": \"age\", \"type\": \"int\"},\n",
    "    ],\n",
    "}\n",
    "\n",
    "valid_data = {\"name\": \"John\", \"age\": 30}\n",
    "invalid_data = {\"name\": \"John\", \"age\": \"30\"}\n",
    "\n",
    "\n",
    "def validate(data):\n",
    "    try:\n",
    "        bdata = BytesIO()\n",
    "        fastavro.schemaless_writer(bdata, schema, data, strict=True)\n",
    "    except Exception as e:\n",
    "        print(\"Data is invalid: \", e)\n",
    "    else:\n",
    "        decoded_json = fastavro.schemaless_reader(\n",
    "            BytesIO(bdata.getvalue()), reader_schema=schema, writer_schema=schema\n",
    "        )\n",
    "        print(\"Data is valid, decoded as: \", decoded_json)\n",
    "\n",
    "\n",
    "validate(valid_data)\n",
    "validate(invalid_data)"
   ]
  }
 ],
 "metadata": {
  "kernelspec": {
   "display_name": "python-data-format-ZNDE77_U-py3.11",
   "language": "python",
   "name": "python3"
  },
  "language_info": {
   "codemirror_mode": {
    "name": "ipython",
    "version": 3
   },
   "file_extension": ".py",
   "mimetype": "text/x-python",
   "name": "python",
   "nbconvert_exporter": "python",
   "pygments_lexer": "ipython3",
   "version": "3.11.7"
  }
 },
 "nbformat": 4,
 "nbformat_minor": 2
}
