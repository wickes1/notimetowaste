{
 "cells": [
  {
   "cell_type": "markdown",
   "metadata": {},
   "source": [
    "`example.thrift`\n",
    "```thrift\n",
    "namespace py example\n",
    "\n",
    "struct Person {\n",
    "  1: string name,\n",
    "  2: i32 age,\n",
    "  3: string email\n",
    "}\n",
    "\n",
    "service PersonService {\n",
    "  void addPerson(1: Person person),\n",
    "  Person getPerson(1: string name)\n",
    "}\n",
    "```\n",
    "\n",
    "```bash\n",
    "# Generate python code\n",
    "thrift --gen py example.thrift\n",
    "```"
   ]
  },
  {
   "cell_type": "code",
   "execution_count": 5,
   "metadata": {},
   "outputs": [
    {
     "name": "stdout",
     "output_type": "stream",
     "text": [
      "John Doe 30 john.doe@example.com\n"
     ]
    }
   ],
   "source": [
    "\"\"\"\n",
    "Thrift protocol read and write example\n",
    "\"\"\"\n",
    "\n",
    "from example.ttypes import Person\n",
    "from thrift.protocol import TBinaryProtocol\n",
    "from thrift.transport import TTransport\n",
    "\n",
    "person = Person(name=\"John Doe\", age=30, email=\"john.doe@example.com\")\n",
    "\n",
    "# Prepare a transport (memory buffer in this case) and protocol\n",
    "transport = TTransport.TMemoryBuffer()\n",
    "protocol = TBinaryProtocol.TBinaryProtocol(transport)\n",
    "\n",
    "# Serialize the object\n",
    "person.write(protocol)\n",
    "serialized_data = transport.getvalue()\n",
    "\n",
    "# Prepare a new transport with the serialized data and read the object\n",
    "transport = TTransport.TMemoryBuffer(serialized_data)\n",
    "protocol = TBinaryProtocol.TBinaryProtocol(transport)\n",
    "\n",
    "# Deserialize the object\n",
    "person_deserialized = Person()\n",
    "person_deserialized.read(protocol)\n",
    "\n",
    "print(person_deserialized.name, person_deserialized.age, person_deserialized.email)"
   ]
  }
 ],
 "metadata": {
  "kernelspec": {
   "display_name": "python-data-format-ZNDE77_U-py3.11",
   "language": "python",
   "name": "python3"
  },
  "language_info": {
   "codemirror_mode": {
    "name": "ipython",
    "version": 3
   },
   "file_extension": ".py",
   "mimetype": "text/x-python",
   "name": "python",
   "nbconvert_exporter": "python",
   "pygments_lexer": "ipython3",
   "version": "3.11.7"
  }
 },
 "nbformat": 4,
 "nbformat_minor": 2
}
