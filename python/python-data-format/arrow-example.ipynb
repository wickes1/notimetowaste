{
 "cells": [
  {
   "cell_type": "code",
   "execution_count": 5,
   "metadata": {},
   "outputs": [
    {
     "name": "stdout",
     "output_type": "stream",
     "text": [
      "[\n",
      "  1,\n",
      "  2,\n",
      "  3,\n",
      "  4,\n",
      "  5\n",
      "]\n",
      "[\n",
      "  \"hello\",\n",
      "  \"world\",\n",
      "  null,\n",
      "  \"arrow\"\n",
      "]\n",
      "pyarrow.Table\n",
      "name: string\n",
      "age: int64\n",
      "city: string\n",
      "----\n",
      "name: [[\"John\",\"Jane\",\"Doe\"]]\n",
      "age: [[30,28,35]]\n",
      "city: [[\"New York\",\"Paris\",\"London\"]]\n"
     ]
    }
   ],
   "source": [
    "\"\"\"\n",
    "Arrow array and table creation\n",
    "\"\"\"\n",
    "\n",
    "import pyarrow as pa\n",
    "import pandas as pd\n",
    "\n",
    "# Create an Arrow Array from a Python list\n",
    "int_array = pa.array([1, 2, 3, 4, 5])\n",
    "\n",
    "# Arrow also supports null values and different data types\n",
    "str_array = pa.array([\"hello\", \"world\", None, \"arrow\"])\n",
    "\n",
    "print(int_array)\n",
    "print(str_array)\n",
    "\n",
    "# Define some data as a list of dictionaries (commonly used format)\n",
    "data = [\n",
    "    {\"name\": \"John\", \"age\": 30, \"city\": \"New York\"},\n",
    "    {\"name\": \"Jane\", \"age\": 28, \"city\": \"Paris\"},\n",
    "    {\"name\": \"Doe\", \"age\": 35, \"city\": \"London\"},\n",
    "]\n",
    "\n",
    "# Create an Arrow Table\n",
    "table = pa.Table.from_pandas(pd.DataFrame(data))\n",
    "\n",
    "print(table)"
   ]
  },
  {
   "cell_type": "code",
   "execution_count": 11,
   "metadata": {},
   "outputs": [
    {
     "name": "stdout",
     "output_type": "stream",
     "text": [
      "[\n",
      "  20,\n",
      "  30,\n",
      "  40\n",
      "]\n",
      "[\n",
      "  20,\n",
      "  40,\n",
      "  60,\n",
      "  80,\n",
      "  100\n",
      "]\n",
      "pyarrow.Table\n",
      "name: string\n",
      "age: int64\n",
      "city: string\n",
      "----\n",
      "name: [[\"John\"]]\n",
      "age: [[30]]\n",
      "city: [[\"New York\"]]\n"
     ]
    }
   ],
   "source": [
    "\"\"\"\n",
    "Manipulating Arrow Arrays\n",
    "\"\"\"\n",
    "\n",
    "import pyarrow as pa\n",
    "\n",
    "# Slicing Array\n",
    "int_array = pa.array([10, 20, 30, 40, 50])\n",
    "sliced_array = int_array.slice(1, 3)\n",
    "\n",
    "print(sliced_array)\n",
    "\n",
    "# PyArrow does not directly support operations like NumPy does, you can convert Arrow Arrays to NumPy arrays for computation and back\n",
    "numpy_array = int_array.to_numpy()\n",
    "# Perform operations with NumPy\n",
    "result_array = numpy_array * 2\n",
    "# Convert back to Arrow Array if needed\n",
    "arrow_result_array = pa.array(result_array)\n",
    "\n",
    "print(arrow_result_array)\n",
    "\n",
    "# Filtering Table\n",
    "import pyarrow.compute as pc\n",
    "\n",
    "# Assuming 'table' is an Arrow Table created previously\n",
    "filtered_table = table.filter(pc.equal(table[\"age\"], 30))\n",
    "print(filtered_table)\n",
    "\n",
    "# Serializing and Deserializing Arrow Tables\n",
    "with open(\"data.arrow\", \"wb\") as f:\n",
    "    writer = pa.RecordBatchFileWriter(f, table.schema)\n",
    "    writer.write_table(table)\n",
    "    writer.close()\n",
    "\n",
    "with open(\"data.arrow\", \"rb\") as f:\n",
    "    reader = pa.RecordBatchFileReader(f)\n",
    "    deserialized_table = reader.read_all()\n",
    "\n",
    "# Convert Arrow Table to Pandas DataFrame\n",
    "df = table.to_pandas()\n",
    "\n",
    "# Convert Pandas DataFrame to Arrow Table\n",
    "arrow_table_from_df = pa.Table.from_pandas(df)"
   ]
  }
 ],
 "metadata": {
  "kernelspec": {
   "display_name": "python-data-format-ZNDE77_U-py3.11",
   "language": "python",
   "name": "python3"
  },
  "language_info": {
   "codemirror_mode": {
    "name": "ipython",
    "version": 3
   },
   "file_extension": ".py",
   "mimetype": "text/x-python",
   "name": "python",
   "nbconvert_exporter": "python",
   "pygments_lexer": "ipython3",
   "version": "3.11.7"
  }
 },
 "nbformat": 4,
 "nbformat_minor": 2
}
