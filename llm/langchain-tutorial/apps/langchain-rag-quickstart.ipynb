{
 "cells": [
  {
   "cell_type": "code",
   "execution_count": null,
   "metadata": {},
   "outputs": [],
   "source": [
    "from langchain_community.chat_models import ChatOllama\n",
    "from langchain_community.embeddings.ollama import OllamaEmbeddings\n",
    "\n",
    "llm = ChatOllama(model=\"llama3:8b-instruct-q6_K\")\n",
    "embedding = OllamaEmbeddings(model=\"nomic-embed-text\")"
   ]
  },
  {
   "cell_type": "code",
   "execution_count": null,
   "metadata": {},
   "outputs": [],
   "source": [
    "from langchain_community.document_loaders import PyPDFLoader\n",
    "\n",
    "loader = PyPDFLoader(\"https://www.scholastic.com/hpread/HP_Book1_Chapter_Excerpt.pdf\")\n",
    "docs = loader.load()\n",
    "len(docs)"
   ]
  },
  {
   "cell_type": "code",
   "execution_count": null,
   "metadata": {},
   "outputs": [],
   "source": [
    "from langchain_text_splitters import RecursiveCharacterTextSplitter\n",
    "\n",
    "text_splitter = RecursiveCharacterTextSplitter(chunk_size=500, chunk_overlap=10)\n",
    "splits = text_splitter.split_documents(docs)\n",
    "len(splits)"
   ]
  },
  {
   "cell_type": "code",
   "execution_count": null,
   "metadata": {},
   "outputs": [],
   "source": [
    "from langchain_community.vectorstores import Chroma\n",
    "\n",
    "vectorstore = Chroma.from_documents(documents=splits, embedding=embedding)\n",
    "retriever = vectorstore.as_retriever(search_type=\"similarity\", search_kwargs={\"k\": 10})\n",
    "retriever_docs = retriever.invoke(\"Who is Harry Potter?\")\n",
    "retriever_docs"
   ]
  },
  {
   "cell_type": "code",
   "execution_count": null,
   "metadata": {},
   "outputs": [],
   "source": [
    "# QA RAG Chain\n",
    "\n",
    "from datetime import date\n",
    "\n",
    "from langchain_core.output_parsers import StrOutputParser\n",
    "from langchain_core.prompts import PromptTemplate\n",
    "from langchain_core.runnables import RunnablePassthrough\n",
    "from langchain.tools import tool\n",
    "\n",
    "\n",
    "prompt_template = \"\"\"Answer the question as precise as possible using the provided context. If the answer is not contained in the context, say \"answer not available in context\"\n",
    "    Date: {date}\n",
    "    Context: {context}\n",
    "    Question: {question}\n",
    "    Answer:\n",
    "     \"\"\"\n",
    "\n",
    "prompt = PromptTemplate(\n",
    "    template=prompt_template, input_variables=[\"date\", \"context\", \"question\"]\n",
    ")\n",
    "\n",
    "\n",
    "def format_docs(docs):\n",
    "    return \"\\n\\n\".join(doc.page_content for doc in docs)\n",
    "\n",
    "\n",
    "@tool\n",
    "def get_today(query: str) -> str:\n",
    "    \"\"\"Get today's date in the format YYYY-MM-DD.\"\"\"\n",
    "    today = date.today()\n",
    "    return today.strftime(\"%Y-%m-%d\")\n",
    "\n",
    "\n",
    "chain = (\n",
    "    {\n",
    "        \"date\": get_today,\n",
    "        \"context\": retriever | format_docs,\n",
    "        \"question\": RunnablePassthrough(),\n",
    "    }\n",
    "    | prompt\n",
    "    | llm\n",
    "    | StrOutputParser()\n",
    ")\n",
    "\n",
    "question = \"What's the date today?\"\n",
    "retrieved_docs = retriever.invoke(question)\n",
    "chain.invoke(question)"
   ]
  },
  {
   "cell_type": "code",
   "execution_count": null,
   "metadata": {},
   "outputs": [],
   "source": [
    "get_today.description"
   ]
  },
  {
   "cell_type": "code",
   "execution_count": null,
   "metadata": {},
   "outputs": [],
   "source": [
    "# QA RAG Chain\n",
    "\n",
    "from datetime import date\n",
    "\n",
    "from langchain_core.output_parsers import StrOutputParser\n",
    "from langchain_core.prompts import PromptTemplate\n",
    "from langchain_core.runnables import RunnablePassthrough\n",
    "\n",
    "\n",
    "prompt_template = \"\"\"Answer the question as precise as possible using the provided context. If the answer is not contained in the context, say \"answer not available in context\"\n",
    "    Date: {date}\n",
    "    Context: {context}\n",
    "    Question: {question}\n",
    "    Answer:\n",
    "     \"\"\"\n",
    "\n",
    "prompt_template = PromptTemplate.from_template(\n",
    "    \"\"\"Answer the question as precise as possible using the provided context. If the answer is not contained in the context, say \"answer not available in context\"\n",
    "    Date: {date}\n",
    "    Context: {context}\n",
    "    Question: {question}\n",
    "    Answer:\n",
    "     \"\"\"\n",
    ")\n",
    "\n",
    "prompt_template.format(\n",
    "    date=get_today(),\n",
    "    context=format_docs(retriever_docs),\n",
    "    question=\"Who is Harry Potter?\",\n",
    ")\n",
    "\n",
    "def format_docs(docs):\n",
    "    return \"\\n\\n\".join(doc.page_content for doc in docs)\n",
    "\n",
    "\n",
    "def get_today():\n",
    "    today = date.today()\n",
    "    return today.strftime(\"%Y-%m-%d\")\n",
    "\n",
    "\n",
    "chain = (\n",
    "    {\n",
    "        \"date\": get_today,\n",
    "        \"context\": retriever | format_docs,\n",
    "        \"question\": RunnablePassthrough(),\n",
    "    }\n",
    "    | prompt\n",
    "    | llm\n",
    "    | StrOutputParser()\n",
    ")"
   ]
  },
  {
   "cell_type": "code",
   "execution_count": null,
   "metadata": {},
   "outputs": [],
   "source": [
    "question = \"Tell me about Harry Potter\"\n",
    "retrieved_docs = retriever.invoke(question)\n",
    "chain.invoke(question)"
   ]
  }
 ],
 "metadata": {
  "kernelspec": {
   "display_name": ".venv",
   "language": "python",
   "name": "python3"
  },
  "language_info": {
   "codemirror_mode": {
    "name": "ipython",
    "version": 3
   },
   "file_extension": ".py",
   "mimetype": "text/x-python",
   "name": "python",
   "nbconvert_exporter": "python",
   "pygments_lexer": "ipython3",
   "version": "3.12.3"
  }
 },
 "nbformat": 4,
 "nbformat_minor": 2
}
