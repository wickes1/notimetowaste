{
 "cells": [
  {
   "cell_type": "code",
   "execution_count": 2,
   "metadata": {},
   "outputs": [],
   "source": [
    "from langchain_elasticsearch import ElasticsearchStore\n",
    "from langchain_community.embeddings.ollama import OllamaEmbeddings\n",
    "\n",
    "embedding = OllamaEmbeddings(model=\"nomic-embed-text\")\n",
    "elastic_vector_search = ElasticsearchStore(\n",
    "    es_url=\"http://localhost:9200\",\n",
    "    index_name=\"test_index\",\n",
    "    embedding=embedding,\n",
    "    # es_user=\"elastic\",\n",
    "    # es_password=\"changeme\",\n",
    ")"
   ]
  },
  {
   "cell_type": "code",
   "execution_count": 3,
   "metadata": {},
   "outputs": [],
   "source": [
    "from langchain_community.document_loaders import TextLoader\n",
    "from langchain_text_splitters import CharacterTextSplitter\n",
    "\n",
    "loader = TextLoader(\"../data/state_of_the_union.txt\")\n",
    "documents = loader.load()\n",
    "text_splitter = CharacterTextSplitter(chunk_size=500, chunk_overlap=0)\n",
    "docs = text_splitter.split_documents(documents)"
   ]
  },
  {
   "cell_type": "code",
   "execution_count": 22,
   "metadata": {},
   "outputs": [
    {
     "name": "stdout",
     "output_type": "stream",
     "text": [
      "[Document(page_content='One of the most serious constitutional responsibilities a President has is nominating someone to serve on the United States Supreme Court. \\n\\nAnd I did that 4 days ago, when I nominated Circuit Court of Appeals Judge Ketanji Brown Jackson. One of our nation’s top legal minds, who will continue Justice Breyer’s legacy of excellence.', metadata={'source': 'data/state_of_the_union.txt', 'date': '2016-01-01', 'rating': 2, 'author': 'John Doe'}), Document(page_content='One of the most serious constitutional responsibilities a President has is nominating someone to serve on the United States Supreme Court. \\n\\nAnd I did that 4 days ago, when I nominated Circuit Court of Appeals Judge Ketanji Brown Jackson. One of our nation’s top legal minds, who will continue Justice Breyer’s legacy of excellence.', metadata={'source': 'data/state_of_the_union.txt', 'date': '2016-01-01', 'rating': 2, 'author': 'John Doe'}), Document(page_content='One of the most serious constitutional responsibilities a President has is nominating someone to serve on the United States Supreme Court. \\n\\nAnd I did that 4 days ago, when I nominated Circuit Court of Appeals Judge Ketanji Brown Jackson. One of our nation’s top legal minds, who will continue Justice Breyer’s legacy of excellence.', metadata={'source': '../data/state_of_the_union.txt'}), Document(page_content='As I said last year, especially to our younger transgender Americans, I will always have your back as your President, so you can be yourself and reach your God-given potential. \\n\\nWhile it often appears that we never agree, that isn’t true. I signed 80 bipartisan bills into law last year. From preventing government shutdowns to protecting Asian-Americans from still-too-common hate crimes to reforming military justice.', metadata={'source': 'data/state_of_the_union.txt', 'date': '2012-01-01', 'rating': 3, 'author': 'John Doe'})]\n"
     ]
    },
    {
     "data": {
      "text/plain": [
       "ObjectApiResponse({'test-basic': {'aliases': {}, 'mappings': {'properties': {'metadata': {'properties': {'author': {'type': 'text', 'fields': {'keyword': {'type': 'keyword', 'ignore_above': 256}}}, 'date': {'type': 'date'}, 'rating': {'type': 'long'}, 'source': {'type': 'text', 'fields': {'keyword': {'type': 'keyword', 'ignore_above': 256}}}}}, 'text': {'type': 'text', 'fields': {'keyword': {'type': 'keyword', 'ignore_above': 256}}}, 'vector': {'type': 'dense_vector', 'dims': 768, 'index': True, 'similarity': 'cosine'}}}, 'settings': {'index': {'routing': {'allocation': {'include': {'_tier_preference': 'data_content'}}}, 'number_of_shards': '1', 'provided_name': 'test-basic', 'creation_date': '1714329725498', 'number_of_replicas': '1', 'uuid': 'V-xI6sQgQkuuk4E04_ye0A', 'version': {'created': '8503000'}}}}})"
      ]
     },
     "execution_count": 22,
     "metadata": {},
     "output_type": "execute_result"
    }
   ],
   "source": [
    "db = ElasticsearchStore.from_documents(\n",
    "    docs,\n",
    "    embedding,\n",
    "    es_url=\"http://localhost:9200\",\n",
    "    index_name=\"test-basic\",\n",
    ")\n",
    "db.client.indices.refresh(index=\"test-basic\")\n",
    "\n",
    "query = \"What did the president say about Ketanji Brown Jackson\"\n",
    "results = db.similarity_search(query)\n",
    "print(results)\n",
    "\n",
    "# db.client.indices.delete(index=\"test-basic\")\n",
    "db.client.indices.get(index=\"test-basic\")"
   ]
  },
  {
   "cell_type": "markdown",
   "metadata": {},
   "source": [
    "## Metadata"
   ]
  },
  {
   "cell_type": "code",
   "execution_count": 5,
   "metadata": {},
   "outputs": [
    {
     "name": "stdout",
     "output_type": "stream",
     "text": [
      "{'source': 'data/state_of_the_union.txt', 'date': '2010-01-01', 'rating': 1, 'author': 'John Doe'}\n"
     ]
    }
   ],
   "source": [
    "# Adding metadata to documents\n",
    "for i, doc in enumerate(docs):\n",
    "    doc.metadata[\"date\"] = f\"{range(2010, 2020)[i % 10]}-01-01\"\n",
    "    doc.metadata[\"rating\"] = range(1, 6)[i % 5]\n",
    "    doc.metadata[\"author\"] = [\"John Doe\", \"Jane Doe\"][i % 2]\n",
    "\n",
    "db = ElasticsearchStore.from_documents(\n",
    "    docs, embedding, es_url=\"http://localhost:9200\", index_name=\"test-metadata\"\n",
    ")\n",
    "db.client.indices.refresh(index=\"test-metadata\")\n",
    "\n",
    "\n",
    "query = \"What did the president say about Ketanji Brown Jackson\"\n",
    "docs = db.similarity_search(query)\n",
    "print(docs[0].metadata)"
   ]
  },
  {
   "cell_type": "code",
   "execution_count": 6,
   "metadata": {},
   "outputs": [
    {
     "name": "stdout",
     "output_type": "stream",
     "text": [
      "{'source': 'data/state_of_the_union.txt', 'date': '2010-01-01', 'rating': 1, 'author': 'John Doe'}\n"
     ]
    }
   ],
   "source": [
    "docs = db.similarity_search(\n",
    "    query, filter=[{\"term\": {\"metadata.author.keyword\": \"John Doe\"}}]\n",
    ")\n",
    "print(docs[0].metadata)"
   ]
  },
  {
   "cell_type": "code",
   "execution_count": 7,
   "metadata": {},
   "outputs": [
    {
     "name": "stdout",
     "output_type": "stream",
     "text": [
      "{'source': 'data/state_of_the_union.txt', 'date': '2010-01-01', 'rating': 1, 'author': 'John Doe'}\n"
     ]
    }
   ],
   "source": [
    "docs = db.similarity_search(\n",
    "    query,\n",
    "    filter=[{\"match\": {\"metadata.author\": {\"query\": \"Jon\", \"fuzziness\": \"AUTO\"}}}],\n",
    ")\n",
    "print(docs[0].metadata)"
   ]
  },
  {
   "cell_type": "code",
   "execution_count": 8,
   "metadata": {},
   "outputs": [
    {
     "name": "stdout",
     "output_type": "stream",
     "text": [
      "{'source': 'data/state_of_the_union.txt', 'date': '2019-01-01', 'rating': 5, 'author': 'Jane Doe'}\n"
     ]
    }
   ],
   "source": [
    "docs = db.similarity_search(\n",
    "    \"Any mention about Fred?\",\n",
    "    filter=[{\"range\": {\"metadata.date\": {\"gte\": \"2010-01-01\"}}}],\n",
    ")\n",
    "print(docs[0].metadata)"
   ]
  },
  {
   "cell_type": "code",
   "execution_count": 9,
   "metadata": {},
   "outputs": [
    {
     "name": "stdout",
     "output_type": "stream",
     "text": [
      "{'source': 'data/state_of_the_union.txt', 'date': '2019-01-01', 'rating': 5, 'author': 'Jane Doe'}\n"
     ]
    }
   ],
   "source": [
    "docs = db.similarity_search(\n",
    "    \"Any mention about Fred?\", filter=[{\"range\": {\"metadata.rating\": {\"gte\": 2}}}]\n",
    ")\n",
    "print(docs[0].metadata)"
   ]
  },
  {
   "cell_type": "markdown",
   "metadata": {},
   "source": [
    "## Chain"
   ]
  },
  {
   "cell_type": "code",
   "execution_count": 19,
   "metadata": {},
   "outputs": [],
   "source": [
    "from elasticsearch import Elasticsearch\n",
    "\n",
    "db = Elasticsearch(\n",
    "    hosts=\"http://localhost:9200\",\n",
    ")\n",
    "\n",
    "customers = [\n",
    "    {\"firstname\": \"Jennifer\", \"lastname\": \"Walters\"},\n",
    "    {\"firstname\": \"Monica\",\"lastname\":\"Rambeau\"},\n",
    "    {\"firstname\": \"Carol\",\"lastname\":\"Danvers\"},\n",
    "    {\"firstname\": \"Wanda\",\"lastname\":\"Maximoff\"},\n",
    "    {\"firstname\": \"Jennifer\",\"lastname\":\"Takeda\"},\n",
    "]\n",
    "for i, customer in enumerate(customers):\n",
    "    db.create(index=\"test-customers\", document=customer, id=i)"
   ]
  },
  {
   "cell_type": "code",
   "execution_count": 20,
   "metadata": {},
   "outputs": [],
   "source": [
    "from langchain.chains.elasticsearch_database import ElasticsearchDatabaseChain\n",
    "from langchain.llms.ollama import Ollama\n",
    "\n",
    "llm = Ollama(model=\"dolphin-mistral\")\n",
    "chain = ElasticsearchDatabaseChain.from_llm(llm=llm, database=db, verbose=True)"
   ]
  },
  {
   "cell_type": "code",
   "execution_count": 21,
   "metadata": {},
   "outputs": [
    {
     "name": "stdout",
     "output_type": "stream",
     "text": [
      "\n",
      "\n",
      "\u001b[1m> Entering new ElasticsearchDatabaseChain chain...\u001b[0m\n",
      "What are the first names of all the customers?\n",
      "ESQuery:\u001b[32;1m\u001b[1;3m{'query': {'match': {'firstname': 'Jennifer'}}, 'aggs': {'customer_firstnames': {'terms': {'field': 'firstname.keyword', 'size': 10, 'order': {'_key': 'asc'}}}}}\u001b[0m\n",
      "ESResult: \u001b[33;1m\u001b[1;3m{'took': 3, 'timed_out': False, '_shards': {'total': 4, 'successful': 4, 'skipped': 0, 'failed': 0}, 'hits': {'total': {'value': 4, 'relation': 'eq'}, 'max_score': 0.87546873, 'hits': [{'_index': 'customers', '_id': '0', '_score': 0.87546873, '_source': {'firstname': 'Jennifer', 'lastname': 'Walters'}}, {'_index': 'customers', '_id': '4', '_score': 0.87546873, '_source': {'firstname': 'Jennifer', 'lastname': 'Takeda'}}, {'_index': 'test-customers', '_id': '0', '_score': 0.87546873, '_source': {'firstname': 'Jennifer', 'lastname': 'Walters'}}, {'_index': 'test-customers', '_id': '4', '_score': 0.87546873, '_source': {'firstname': 'Jennifer', 'lastname': 'Takeda'}}]}, 'aggregations': {'customer_firstnames': {'doc_count_error_upper_bound': 0, 'sum_other_doc_count': 0, 'buckets': [{'key': 'Jennifer', 'doc_count': 4}]}}}\u001b[0m\n",
      "Answer:\u001b[32;1m\u001b[1;3mQuestion: What are the first names of all the customers?\n",
      "Data: {'took': 3, 'timed_out': False, '_shards': {'total': 4, 'successful': 4, 'skipped': 0, 'failed': 0}, 'hits': {'total': {'value': 4, 'relation': 'eq'}, 'max_score': 0.87546873, 'hits': [{'_index': 'customers', '_id': '0', '_score': 0.87546873, '_source': {'firstname': 'Jennifer', 'lastname': 'Walters'}}, {'_index': 'customers', '_id': '4', '_score': 0.87546873, '_source': {'firstname': 'Jennifer', 'lastname': 'Takeda'}}, {'_index': 'test-customers', '_id': '0', '_score': 0.87546873, '_source': {'firstname': 'Jennifer', 'lastname': 'Walters'}}, {'_index': 'test-customers', '_id': '4', '_score': 0.87546873, '_source': {'firstname': 'Jennifer', 'lastname': 'Takeda'}}]}, 'aggregations': {'customer_firstnames': {'doc_count_error_upper_bound': 0, 'sum_other_doc_count': 0, 'buckets': [{'key': 'Jennifer', 'doc_count': 4}]}}}\n",
      "Answer: Jennifer\u001b[0m\n",
      "\u001b[1m> Finished chain.\u001b[0m\n"
     ]
    },
    {
     "data": {
      "text/plain": [
       "\"Question: What are the first names of all the customers?\\nData: {'took': 3, 'timed_out': False, '_shards': {'total': 4, 'successful': 4, 'skipped': 0, 'failed': 0}, 'hits': {'total': {'value': 4, 'relation': 'eq'}, 'max_score': 0.87546873, 'hits': [{'_index': 'customers', '_id': '0', '_score': 0.87546873, '_source': {'firstname': 'Jennifer', 'lastname': 'Walters'}}, {'_index': 'customers', '_id': '4', '_score': 0.87546873, '_source': {'firstname': 'Jennifer', 'lastname': 'Takeda'}}, {'_index': 'test-customers', '_id': '0', '_score': 0.87546873, '_source': {'firstname': 'Jennifer', 'lastname': 'Walters'}}, {'_index': 'test-customers', '_id': '4', '_score': 0.87546873, '_source': {'firstname': 'Jennifer', 'lastname': 'Takeda'}}]}, 'aggregations': {'customer_firstnames': {'doc_count_error_upper_bound': 0, 'sum_other_doc_count': 0, 'buckets': [{'key': 'Jennifer', 'doc_count': 4}]}}}\\nAnswer: Jennifer\""
      ]
     },
     "execution_count": 21,
     "metadata": {},
     "output_type": "execute_result"
    }
   ],
   "source": [
    "question = \"What are the first names of all the customers?\"\n",
    "chain.run(question)"
   ]
  }
 ],
 "metadata": {
  "kernelspec": {
   "display_name": ".venv",
   "language": "python",
   "name": "python3"
  },
  "language_info": {
   "codemirror_mode": {
    "name": "ipython",
    "version": 3
   },
   "file_extension": ".py",
   "mimetype": "text/x-python",
   "name": "python",
   "nbconvert_exporter": "python",
   "pygments_lexer": "ipython3",
   "version": "3.12.3"
  }
 },
 "nbformat": 4,
 "nbformat_minor": 2
}
