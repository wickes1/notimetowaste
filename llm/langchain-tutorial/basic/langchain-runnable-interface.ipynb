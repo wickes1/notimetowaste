{
 "cells": [
  {
   "cell_type": "code",
   "execution_count": 1,
   "metadata": {},
   "outputs": [],
   "source": [
    "from langchain_core.prompts import ChatPromptTemplate\n",
    "from  langchain_community.chat_models.ollama import ChatOllama\n",
    "\n",
    "model = ChatOllama()\n",
    "prompt = ChatPromptTemplate.from_template(\"tell me a joke about {topic}\")\n",
    "chain = prompt | model\n",
    "\n",
    "# chain.input_schema.schema()\n",
    "# prompt.input_schema.schema()\n",
    "# model.input_schema.schema()\n",
    "# chain.output_schema.schema()\n",
    "# prompt.output_schema.schema()\n",
    "# model.output_schema.schema()"
   ]
  },
  {
   "cell_type": "code",
   "execution_count": 12,
   "metadata": {},
   "outputs": [
    {
     "name": "stdout",
     "output_type": "stream",
     "text": [
      "Why did the bear go to the doctor?\n",
      "\n",
      "Because it had a grizzly cough!\n",
      "\n",
      "(Sorry, I know it's a bit of a paws-itive pun, but I hope it made you roar with laughter!)"
     ]
    }
   ],
   "source": [
    "# Stream\n",
    "for s in chain.stream({\"topic\": \"bears\"}):\n",
    "    print(s.content, end=\"\", flush=True)"
   ]
  },
  {
   "cell_type": "code",
   "execution_count": 3,
   "metadata": {},
   "outputs": [
    {
     "data": {
      "text/plain": [
       "AIMessage(content='Why did the bear go to the doctor?\\n\\nBecause it had a grizzly cough!\\n\\nHope that made you roar with laughter!', response_metadata={'model': 'llama3:8b-instruct-q6_K', 'created_at': '2024-04-29T20:03:40.540899262Z', 'message': {'role': 'assistant', 'content': ''}, 'done': True, 'total_duration': 2899111658, 'load_duration': 2236646034, 'prompt_eval_count': 16, 'prompt_eval_duration': 62981000, 'eval_count': 26, 'eval_duration': 462823000}, id='run-c62f3a98-b073-4619-ab4e-6552063dfe55-0')"
      ]
     },
     "execution_count": 3,
     "metadata": {},
     "output_type": "execute_result"
    }
   ],
   "source": [
    "# Invoke\n",
    "chain.invoke({\"topic\": \"bears\"})"
   ]
  },
  {
   "cell_type": "code",
   "execution_count": 6,
   "metadata": {},
   "outputs": [
    {
     "data": {
      "text/plain": [
       "[AIMessage(content='Why did the bear go to the doctor?\\n\\nBecause it had a grizzly cough!\\n\\nHope that one made you roar with laughter!', response_metadata={'model': 'llama3:8b-instruct-q6_K', 'created_at': '2024-04-29T20:04:19.1140945Z', 'message': {'role': 'assistant', 'content': ''}, 'done': True, 'total_duration': 644980023, 'load_duration': 505047, 'prompt_eval_count': 6, 'prompt_eval_duration': 32068000, 'eval_count': 27, 'eval_duration': 480067000}, id='run-ad5e79b4-1e6e-4dbd-afd0-09743ed53350-0'),\n",
       " AIMessage(content='Why did the cat join a band?\\n\\nBecause it wanted to be the purr-cussionist!', response_metadata={'model': 'llama3:8b-instruct-q6_K', 'created_at': '2024-04-29T20:04:19.644124617Z', 'message': {'role': 'assistant', 'content': ''}, 'done': True, 'total_duration': 529939117, 'load_duration': 462387, 'prompt_eval_count': 6, 'prompt_eval_duration': 31265000, 'eval_count': 21, 'eval_duration': 367807000}, id='run-d2da58dc-0f31-41fd-8da4-e566759b3474-0')]"
      ]
     },
     "execution_count": 6,
     "metadata": {},
     "output_type": "execute_result"
    }
   ],
   "source": [
    "# Batch\n",
    "# chain.batch([{\"topic\": \"bears\"}, {\"topic\": \"cats\"}])\n",
    "chain.batch([{\"topic\": \"bears\"}, {\"topic\": \"cats\"}], config={\"max_concurrency\": 5})"
   ]
  },
  {
   "cell_type": "code",
   "execution_count": 7,
   "metadata": {},
   "outputs": [
    {
     "data": {
      "text/plain": [
       "AIMessage(content=\"Here's one:\\n\\nWhy did the bear go to the doctor?\\n\\nBecause it had a grizzly cough!\\n\\nHope that made you roar with laughter!\", response_metadata={'model': 'llama3:8b-instruct-q6_K', 'created_at': '2024-04-29T20:04:29.910102619Z', 'message': {'role': 'assistant', 'content': ''}, 'done': True, 'total_duration': 697852823, 'load_duration': 461478, 'prompt_eval_count': 6, 'prompt_eval_duration': 31418000, 'eval_count': 30, 'eval_duration': 533480000}, id='run-5510c6fd-d84c-4d52-8ad2-1679ef0236b3-0')"
      ]
     },
     "execution_count": 7,
     "metadata": {},
     "output_type": "execute_result"
    }
   ],
   "source": [
    "# Async Invoke\n",
    "await chain.ainvoke({\"topic\": \"bears\"})"
   ]
  },
  {
   "cell_type": "code",
   "execution_count": 9,
   "metadata": {},
   "outputs": [
    {
     "data": {
      "text/plain": [
       "[AIMessage(content='Why did the bear go to the doctor?\\n\\nBecause it had a grizzly cough!\\n\\nHope that made you roar with laughter!', response_metadata={'model': 'llama3:8b-instruct-q6_K', 'created_at': '2024-04-29T20:04:56.365754549Z', 'message': {'role': 'assistant', 'content': ''}, 'done': True, 'total_duration': 619325380, 'load_duration': 544557, 'prompt_eval_duration': 19048000, 'eval_count': 26, 'eval_duration': 461606000}, id='run-e5743000-9db2-48d1-8e05-8583cc29d304-0'),\n",
       " AIMessage(content='Why did the cat join a band?\\n\\nBecause it wanted to be the purr-cussionist!', response_metadata={'model': 'llama3:8b-instruct-q6_K', 'created_at': '2024-04-29T20:04:56.905832775Z', 'message': {'role': 'assistant', 'content': ''}, 'done': True, 'total_duration': 539987427, 'load_duration': 476367, 'prompt_eval_count': 6, 'prompt_eval_duration': 31925000, 'eval_count': 21, 'eval_duration': 368880000}, id='run-06d3d229-0c71-4147-920a-5fddb31863e8-0')]"
      ]
     },
     "execution_count": 9,
     "metadata": {},
     "output_type": "execute_result"
    }
   ],
   "source": [
    "# Async Batch\n",
    "await chain.abatch([{\"topic\": \"bears\"}, {\"topic\": \"cats\"}])"
   ]
  }
 ],
 "metadata": {
  "kernelspec": {
   "display_name": ".venv",
   "language": "python",
   "name": "python3"
  },
  "language_info": {
   "codemirror_mode": {
    "name": "ipython",
    "version": 3
   },
   "file_extension": ".py",
   "mimetype": "text/x-python",
   "name": "python",
   "nbconvert_exporter": "python",
   "pygments_lexer": "ipython3",
   "version": "3.12.3"
  }
 },
 "nbformat": 4,
 "nbformat_minor": 2
}
