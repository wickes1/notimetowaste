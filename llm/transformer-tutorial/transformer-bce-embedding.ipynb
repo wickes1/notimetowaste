{
 "cells": [
  {
   "cell_type": "code",
   "execution_count": 1,
   "metadata": {},
   "outputs": [
    {
     "data": {
      "application/vnd.jupyter.widget-view+json": {
       "model_id": "1b866ab11ff14974a90a79be2b5324d6",
       "version_major": 2,
       "version_minor": 0
      },
      "text/plain": [
       "VBox(children=(HTML(value='<center> <img\\nsrc=https://huggingface.co/front/assets/huggingface_logo-noborder.sv…"
      ]
     },
     "metadata": {},
     "output_type": "display_data"
    }
   ],
   "source": [
    "from huggingface_hub import notebook_login\n",
    "\n",
    "notebook_login()"
   ]
  },
  {
   "cell_type": "code",
   "execution_count": 1,
   "metadata": {},
   "outputs": [],
   "source": [
    "import os\n",
    "\n",
    "os.environ[\"HSA_OVERRIDE_GFX_VERSION\"] = \"10.3.0\"\n",
    "\n",
    "# HSA_OVERRIDE_GFX_VERSION=10.3.0"
   ]
  },
  {
   "cell_type": "code",
   "execution_count": 4,
   "metadata": {},
   "outputs": [],
   "source": [
    "from transformers import AutoModel, AutoTokenizer\n",
    "\n",
    "# list of sentences\n",
    "sentences = [\n",
    "    \"sentence_0\",\n",
    "    \"sentence_1\",\n",
    "]\n",
    "\n",
    "# init model and tokenizer\n",
    "tokenizer = AutoTokenizer.from_pretrained(\"maidalun1020/bce-embedding-base_v1\")\n",
    "model = AutoModel.from_pretrained(\"maidalun1020/bce-embedding-base_v1\")\n",
    "\n",
    "device = \"cuda\"  # if no GPU, set \"cpu\"\n",
    "model.to(device)\n",
    "\n",
    "# get inputs\n",
    "inputs = tokenizer(\n",
    "    sentences, padding=True, truncation=True, max_length=512, return_tensors=\"pt\"\n",
    ")\n",
    "inputs_on_device = {k: v.to(device) for k, v in inputs.items()}\n",
    "\n",
    "# get embeddings\n",
    "outputs = model(**inputs_on_device, return_dict=True)\n",
    "embeddings = outputs.last_hidden_state[:, 0]  # cls pooler\n",
    "embeddings = embeddings / embeddings.norm(dim=1, keepdim=True)  # normalize"
   ]
  },
  {
   "cell_type": "code",
   "execution_count": 2,
   "metadata": {},
   "outputs": [
    {
     "name": "stdout",
     "output_type": "stream",
     "text": [
      "tensor([0.3818, 0.3346], device='cuda:0', grad_fn=<SigmoidBackward0>)\n"
     ]
    }
   ],
   "source": [
    "import torch\n",
    "from transformers import AutoTokenizer, AutoModelForSequenceClassification\n",
    "\n",
    "# your query and corresponding passages\n",
    "query = \"input_query\"\n",
    "passages = [\"passage_0\", \"passage_1\"]\n",
    "\n",
    "# construct sentence pairs\n",
    "sentence_pairs = [[query, passage] for passage in passages]\n",
    "\n",
    "# init model and tokenizer\n",
    "tokenizer = AutoTokenizer.from_pretrained(\"maidalun1020/bce-reranker-base_v1\")\n",
    "model = AutoModelForSequenceClassification.from_pretrained(\n",
    "    \"maidalun1020/bce-reranker-base_v1\"\n",
    ")\n",
    "\n",
    "device = \"cuda\"  # if no GPU, set \"cpu\"\n",
    "model.to(device)\n",
    "\n",
    "# get inputs\n",
    "inputs = tokenizer(\n",
    "    sentence_pairs, padding=True, truncation=True, max_length=512, return_tensors=\"pt\"\n",
    ")\n",
    "inputs_on_device = {k: v.to(device) for k, v in inputs.items()}\n",
    "\n",
    "# calculate scores\n",
    "scores = (\n",
    "    model(**inputs_on_device, return_dict=True)\n",
    "    .logits.view(\n",
    "        -1,\n",
    "    )\n",
    "    .float()\n",
    ")\n",
    "scores = torch.sigmoid(scores)"
   ]
  }
 ],
 "metadata": {
  "kernelspec": {
   "display_name": ".venv",
   "language": "python",
   "name": "python3"
  },
  "language_info": {
   "codemirror_mode": {
    "name": "ipython",
    "version": 3
   },
   "file_extension": ".py",
   "mimetype": "text/x-python",
   "name": "python",
   "nbconvert_exporter": "python",
   "pygments_lexer": "ipython3",
   "version": "3.12.3"
  }
 },
 "nbformat": 4,
 "nbformat_minor": 2
}
